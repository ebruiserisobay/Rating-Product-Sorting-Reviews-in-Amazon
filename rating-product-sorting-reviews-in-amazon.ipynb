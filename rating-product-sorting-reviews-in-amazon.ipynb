{
 "cells": [
  {
   "cell_type": "markdown",
   "id": "b0ffbaa1",
   "metadata": {
    "papermill": {
     "duration": 0.011443,
     "end_time": "2024-06-06T03:29:22.147778",
     "exception": false,
     "start_time": "2024-06-06T03:29:22.136335",
     "status": "completed"
    },
    "tags": []
   },
   "source": [
    "# Rating Product & Sorting Reviews in Amazon\n",
    "\n",
    "## 1. Business Problem\n",
    "\n",
    "One of the key challenges in e-commerce is the accurate calculation of post-purchase ratings for products. Solving this issue not only ensures greater customer satisfaction for e-commerce platforms but also boosts product visibility for sellers and provides a seamless shopping experience for buyers. \n",
    "\n",
    "Another significant problem is the accurate sorting of product reviews. As misleading reviews can directly impact product sales, they may result in both financial losses and customer churn. \n",
    "\n",
    "Addressing these two fundamental issues will not only increase sales for e-commerce platforms and sellers but also enable customers to complete their purchasing journey smoothly.\n",
    "\n",
    "## 2. About Dataset\n",
    "\n",
    "This dataset containing Amazon product data includes various metadata along with product categories. It includes user ratings and reviews for the product with the most reviews in the electronics category.\n",
    "\n",
    "* **reviewerID:** User ID\n",
    "* **asin:** Product ID\n",
    "* **reviewerName:** User Name\n",
    "* **helpful:** Helpful rating\n",
    "* **reviewText:** Review\n",
    "* **overall:** Product rating\n",
    "* **summary:** Review summary\n",
    "* **unixReviewTime:** Review time\n",
    "* **reviewTime:** Review time (Raw)\n",
    "* **day_diff:** Number of days since the review\n",
    "* **helpful_yes:** Number of helpful votes for the review\n",
    "* **total_vote:** Total number of votes for the review"
   ]
  },
  {
   "cell_type": "markdown",
   "id": "7d95bda7",
   "metadata": {
    "papermill": {
     "duration": 0.011224,
     "end_time": "2024-06-06T03:29:22.170628",
     "exception": false,
     "start_time": "2024-06-06T03:29:22.159404",
     "status": "completed"
    },
    "tags": []
   },
   "source": [
    "## 3. Data Preparing & Understanding"
   ]
  },
  {
   "cell_type": "code",
   "execution_count": 1,
   "id": "b18742b0",
   "metadata": {
    "execution": {
     "iopub.execute_input": "2024-06-06T03:29:22.194930Z",
     "iopub.status.busy": "2024-06-06T03:29:22.194450Z",
     "iopub.status.idle": "2024-06-06T03:29:24.460800Z",
     "shell.execute_reply": "2024-06-06T03:29:24.459516Z"
    },
    "papermill": {
     "duration": 2.28284,
     "end_time": "2024-06-06T03:29:24.464696",
     "exception": false,
     "start_time": "2024-06-06T03:29:22.181856",
     "status": "completed"
    },
    "tags": []
   },
   "outputs": [],
   "source": [
    "import pandas as pd\n",
    "import numpy as np\n",
    "import scipy.stats as st\n",
    "import math\n",
    "from sklearn.preprocessing import MinMaxScaler\n",
    "import datetime as dt\n",
    "\n",
    "pd.set_option('display.max_rows', None)\n",
    "pd.set_option('display.max_columns', None)\n",
    "pd.set_option('display.width', 500)\n",
    "pd.set_option('display.expand_frame_repr', False)\n",
    "pd.set_option('display.float_format', lambda x: '%.5f' % x)"
   ]
  },
  {
   "cell_type": "code",
   "execution_count": 2,
   "id": "a35e1a7a",
   "metadata": {
    "execution": {
     "iopub.execute_input": "2024-06-06T03:29:24.489461Z",
     "iopub.status.busy": "2024-06-06T03:29:24.488806Z",
     "iopub.status.idle": "2024-06-06T03:29:24.569195Z",
     "shell.execute_reply": "2024-06-06T03:29:24.568052Z"
    },
    "papermill": {
     "duration": 0.095881,
     "end_time": "2024-06-06T03:29:24.572033",
     "exception": false,
     "start_time": "2024-06-06T03:29:24.476152",
     "status": "completed"
    },
    "tags": []
   },
   "outputs": [],
   "source": [
    "df_ = pd.read_csv('/kaggle/input/amazon-review-csv/amazon_review.csv') #upload the dataset\n",
    "df = df_.copy() # copy the dataset to protect original dataset"
   ]
  },
  {
   "cell_type": "code",
   "execution_count": 3,
   "id": "ae6b2afb",
   "metadata": {
    "execution": {
     "iopub.execute_input": "2024-06-06T03:29:24.596314Z",
     "iopub.status.busy": "2024-06-06T03:29:24.595871Z",
     "iopub.status.idle": "2024-06-06T03:29:24.623291Z",
     "shell.execute_reply": "2024-06-06T03:29:24.621897Z"
    },
    "papermill": {
     "duration": 0.042981,
     "end_time": "2024-06-06T03:29:24.626118",
     "exception": false,
     "start_time": "2024-06-06T03:29:24.583137",
     "status": "completed"
    },
    "tags": []
   },
   "outputs": [
    {
     "data": {
      "text/html": [
       "<div>\n",
       "<style scoped>\n",
       "    .dataframe tbody tr th:only-of-type {\n",
       "        vertical-align: middle;\n",
       "    }\n",
       "\n",
       "    .dataframe tbody tr th {\n",
       "        vertical-align: top;\n",
       "    }\n",
       "\n",
       "    .dataframe thead th {\n",
       "        text-align: right;\n",
       "    }\n",
       "</style>\n",
       "<table border=\"1\" class=\"dataframe\">\n",
       "  <thead>\n",
       "    <tr style=\"text-align: right;\">\n",
       "      <th></th>\n",
       "      <th>reviewerID</th>\n",
       "      <th>asin</th>\n",
       "      <th>reviewerName</th>\n",
       "      <th>helpful</th>\n",
       "      <th>reviewText</th>\n",
       "      <th>overall</th>\n",
       "      <th>summary</th>\n",
       "      <th>unixReviewTime</th>\n",
       "      <th>reviewTime</th>\n",
       "      <th>day_diff</th>\n",
       "      <th>helpful_yes</th>\n",
       "      <th>total_vote</th>\n",
       "    </tr>\n",
       "  </thead>\n",
       "  <tbody>\n",
       "    <tr>\n",
       "      <th>0</th>\n",
       "      <td>A3SBTW3WS4IQSN</td>\n",
       "      <td>B007WTAJTO</td>\n",
       "      <td>NaN</td>\n",
       "      <td>[0, 0]</td>\n",
       "      <td>No issues.</td>\n",
       "      <td>4.00000</td>\n",
       "      <td>Four Stars</td>\n",
       "      <td>1406073600</td>\n",
       "      <td>2014-07-23</td>\n",
       "      <td>138</td>\n",
       "      <td>0</td>\n",
       "      <td>0</td>\n",
       "    </tr>\n",
       "    <tr>\n",
       "      <th>1</th>\n",
       "      <td>A18K1ODH1I2MVB</td>\n",
       "      <td>B007WTAJTO</td>\n",
       "      <td>0mie</td>\n",
       "      <td>[0, 0]</td>\n",
       "      <td>Purchased this for my device, it worked as adv...</td>\n",
       "      <td>5.00000</td>\n",
       "      <td>MOAR SPACE!!!</td>\n",
       "      <td>1382659200</td>\n",
       "      <td>2013-10-25</td>\n",
       "      <td>409</td>\n",
       "      <td>0</td>\n",
       "      <td>0</td>\n",
       "    </tr>\n",
       "    <tr>\n",
       "      <th>2</th>\n",
       "      <td>A2FII3I2MBMUIA</td>\n",
       "      <td>B007WTAJTO</td>\n",
       "      <td>1K3</td>\n",
       "      <td>[0, 0]</td>\n",
       "      <td>it works as expected. I should have sprung for...</td>\n",
       "      <td>4.00000</td>\n",
       "      <td>nothing to really say....</td>\n",
       "      <td>1356220800</td>\n",
       "      <td>2012-12-23</td>\n",
       "      <td>715</td>\n",
       "      <td>0</td>\n",
       "      <td>0</td>\n",
       "    </tr>\n",
       "    <tr>\n",
       "      <th>3</th>\n",
       "      <td>A3H99DFEG68SR</td>\n",
       "      <td>B007WTAJTO</td>\n",
       "      <td>1m2</td>\n",
       "      <td>[0, 0]</td>\n",
       "      <td>This think has worked out great.Had a diff. br...</td>\n",
       "      <td>5.00000</td>\n",
       "      <td>Great buy at this price!!!  *** UPDATE</td>\n",
       "      <td>1384992000</td>\n",
       "      <td>2013-11-21</td>\n",
       "      <td>382</td>\n",
       "      <td>0</td>\n",
       "      <td>0</td>\n",
       "    </tr>\n",
       "    <tr>\n",
       "      <th>4</th>\n",
       "      <td>A375ZM4U047O79</td>\n",
       "      <td>B007WTAJTO</td>\n",
       "      <td>2&amp;amp;1/2Men</td>\n",
       "      <td>[0, 0]</td>\n",
       "      <td>Bought it with Retail Packaging, arrived legit...</td>\n",
       "      <td>5.00000</td>\n",
       "      <td>best deal around</td>\n",
       "      <td>1373673600</td>\n",
       "      <td>2013-07-13</td>\n",
       "      <td>513</td>\n",
       "      <td>0</td>\n",
       "      <td>0</td>\n",
       "    </tr>\n",
       "  </tbody>\n",
       "</table>\n",
       "</div>"
      ],
      "text/plain": [
       "       reviewerID        asin  reviewerName helpful                                         reviewText  overall                                 summary  unixReviewTime  reviewTime  day_diff  helpful_yes  total_vote\n",
       "0  A3SBTW3WS4IQSN  B007WTAJTO           NaN  [0, 0]                                         No issues.  4.00000                              Four Stars      1406073600  2014-07-23       138            0           0\n",
       "1  A18K1ODH1I2MVB  B007WTAJTO          0mie  [0, 0]  Purchased this for my device, it worked as adv...  5.00000                           MOAR SPACE!!!      1382659200  2013-10-25       409            0           0\n",
       "2  A2FII3I2MBMUIA  B007WTAJTO           1K3  [0, 0]  it works as expected. I should have sprung for...  4.00000               nothing to really say....      1356220800  2012-12-23       715            0           0\n",
       "3   A3H99DFEG68SR  B007WTAJTO           1m2  [0, 0]  This think has worked out great.Had a diff. br...  5.00000  Great buy at this price!!!  *** UPDATE      1384992000  2013-11-21       382            0           0\n",
       "4  A375ZM4U047O79  B007WTAJTO  2&amp;1/2Men  [0, 0]  Bought it with Retail Packaging, arrived legit...  5.00000                        best deal around      1373673600  2013-07-13       513            0           0"
      ]
     },
     "execution_count": 3,
     "metadata": {},
     "output_type": "execute_result"
    }
   ],
   "source": [
    "df.head() #display first 5 columns"
   ]
  },
  {
   "cell_type": "code",
   "execution_count": 4,
   "id": "ce42dcad",
   "metadata": {
    "execution": {
     "iopub.execute_input": "2024-06-06T03:29:24.650983Z",
     "iopub.status.busy": "2024-06-06T03:29:24.650226Z",
     "iopub.status.idle": "2024-06-06T03:29:24.657718Z",
     "shell.execute_reply": "2024-06-06T03:29:24.656650Z"
    },
    "papermill": {
     "duration": 0.022407,
     "end_time": "2024-06-06T03:29:24.659974",
     "exception": false,
     "start_time": "2024-06-06T03:29:24.637567",
     "status": "completed"
    },
    "tags": []
   },
   "outputs": [
    {
     "data": {
      "text/plain": [
       "(4915, 12)"
      ]
     },
     "execution_count": 4,
     "metadata": {},
     "output_type": "execute_result"
    }
   ],
   "source": [
    "df.shape #display the shape of the dataset"
   ]
  },
  {
   "cell_type": "code",
   "execution_count": 5,
   "id": "e3872a58",
   "metadata": {
    "execution": {
     "iopub.execute_input": "2024-06-06T03:29:24.685594Z",
     "iopub.status.busy": "2024-06-06T03:29:24.684485Z",
     "iopub.status.idle": "2024-06-06T03:29:24.700846Z",
     "shell.execute_reply": "2024-06-06T03:29:24.699640Z"
    },
    "papermill": {
     "duration": 0.032104,
     "end_time": "2024-06-06T03:29:24.703672",
     "exception": false,
     "start_time": "2024-06-06T03:29:24.671568",
     "status": "completed"
    },
    "tags": []
   },
   "outputs": [
    {
     "data": {
      "text/plain": [
       "overall\n",
       "5.00000    3922\n",
       "4.00000     527\n",
       "1.00000     244\n",
       "3.00000     142\n",
       "2.00000      80\n",
       "Name: count, dtype: int64"
      ]
     },
     "execution_count": 5,
     "metadata": {},
     "output_type": "execute_result"
    }
   ],
   "source": [
    "df[\"overall\"].value_counts() #counting "
   ]
  },
  {
   "cell_type": "code",
   "execution_count": 6,
   "id": "2ee87c88",
   "metadata": {
    "execution": {
     "iopub.execute_input": "2024-06-06T03:29:24.730138Z",
     "iopub.status.busy": "2024-06-06T03:29:24.729704Z",
     "iopub.status.idle": "2024-06-06T03:29:24.760800Z",
     "shell.execute_reply": "2024-06-06T03:29:24.759558Z"
    },
    "papermill": {
     "duration": 0.047789,
     "end_time": "2024-06-06T03:29:24.763664",
     "exception": false,
     "start_time": "2024-06-06T03:29:24.715875",
     "status": "completed"
    },
    "tags": []
   },
   "outputs": [
    {
     "name": "stdout",
     "output_type": "stream",
     "text": [
      "<class 'pandas.core.frame.DataFrame'>\n",
      "RangeIndex: 4915 entries, 0 to 4914\n",
      "Data columns (total 12 columns):\n",
      " #   Column          Non-Null Count  Dtype  \n",
      "---  ------          --------------  -----  \n",
      " 0   reviewerID      4915 non-null   object \n",
      " 1   asin            4915 non-null   object \n",
      " 2   reviewerName    4914 non-null   object \n",
      " 3   helpful         4915 non-null   object \n",
      " 4   reviewText      4914 non-null   object \n",
      " 5   overall         4915 non-null   float64\n",
      " 6   summary         4915 non-null   object \n",
      " 7   unixReviewTime  4915 non-null   int64  \n",
      " 8   reviewTime      4915 non-null   object \n",
      " 9   day_diff        4915 non-null   int64  \n",
      " 10  helpful_yes     4915 non-null   int64  \n",
      " 11  total_vote      4915 non-null   int64  \n",
      "dtypes: float64(1), int64(4), object(7)\n",
      "memory usage: 460.9+ KB\n"
     ]
    }
   ],
   "source": [
    "df.info() #info about dataset"
   ]
  },
  {
   "cell_type": "code",
   "execution_count": 7,
   "id": "1480386a",
   "metadata": {
    "execution": {
     "iopub.execute_input": "2024-06-06T03:29:24.790185Z",
     "iopub.status.busy": "2024-06-06T03:29:24.789774Z",
     "iopub.status.idle": "2024-06-06T03:29:24.808557Z",
     "shell.execute_reply": "2024-06-06T03:29:24.807301Z"
    },
    "papermill": {
     "duration": 0.035331,
     "end_time": "2024-06-06T03:29:24.811274",
     "exception": false,
     "start_time": "2024-06-06T03:29:24.775943",
     "status": "completed"
    },
    "tags": []
   },
   "outputs": [],
   "source": [
    "# Converting date columns to datetime type\n",
    "\n",
    "date_list = [\"unixReviewTime\", \"reviewTime\"]\n",
    "\n",
    "for i in date_list:\n",
    "    df[i] = pd.to_datetime(df[i])"
   ]
  },
  {
   "cell_type": "code",
   "execution_count": 8,
   "id": "20725bea",
   "metadata": {
    "execution": {
     "iopub.execute_input": "2024-06-06T03:29:24.836597Z",
     "iopub.status.busy": "2024-06-06T03:29:24.836161Z",
     "iopub.status.idle": "2024-06-06T03:29:24.853944Z",
     "shell.execute_reply": "2024-06-06T03:29:24.852304Z"
    },
    "papermill": {
     "duration": 0.03347,
     "end_time": "2024-06-06T03:29:24.856581",
     "exception": false,
     "start_time": "2024-06-06T03:29:24.823111",
     "status": "completed"
    },
    "tags": []
   },
   "outputs": [
    {
     "name": "stdout",
     "output_type": "stream",
     "text": [
      "<class 'pandas.core.frame.DataFrame'>\n",
      "RangeIndex: 4915 entries, 0 to 4914\n",
      "Data columns (total 12 columns):\n",
      " #   Column          Non-Null Count  Dtype         \n",
      "---  ------          --------------  -----         \n",
      " 0   reviewerID      4915 non-null   object        \n",
      " 1   asin            4915 non-null   object        \n",
      " 2   reviewerName    4914 non-null   object        \n",
      " 3   helpful         4915 non-null   object        \n",
      " 4   reviewText      4914 non-null   object        \n",
      " 5   overall         4915 non-null   float64       \n",
      " 6   summary         4915 non-null   object        \n",
      " 7   unixReviewTime  4915 non-null   datetime64[ns]\n",
      " 8   reviewTime      4915 non-null   datetime64[ns]\n",
      " 9   day_diff        4915 non-null   int64         \n",
      " 10  helpful_yes     4915 non-null   int64         \n",
      " 11  total_vote      4915 non-null   int64         \n",
      "dtypes: datetime64[ns](2), float64(1), int64(3), object(6)\n",
      "memory usage: 460.9+ KB\n"
     ]
    }
   ],
   "source": [
    "df.info() #check the datatype again"
   ]
  },
  {
   "cell_type": "code",
   "execution_count": 9,
   "id": "be1233d3",
   "metadata": {
    "execution": {
     "iopub.execute_input": "2024-06-06T03:29:24.882989Z",
     "iopub.status.busy": "2024-06-06T03:29:24.882596Z",
     "iopub.status.idle": "2024-06-06T03:29:24.891048Z",
     "shell.execute_reply": "2024-06-06T03:29:24.889822Z"
    },
    "papermill": {
     "duration": 0.024454,
     "end_time": "2024-06-06T03:29:24.893745",
     "exception": false,
     "start_time": "2024-06-06T03:29:24.869291",
     "status": "completed"
    },
    "tags": []
   },
   "outputs": [],
   "source": [
    "# we defined 2 days after the last order date as the analysis date\n",
    "\n",
    "df[\"reviewTime\"].max()\n",
    "today_date = pd.to_datetime('2014-12-09 00:00:00')"
   ]
  },
  {
   "cell_type": "code",
   "execution_count": 10,
   "id": "9836aed1",
   "metadata": {
    "execution": {
     "iopub.execute_input": "2024-06-06T03:29:24.919718Z",
     "iopub.status.busy": "2024-06-06T03:29:24.919290Z",
     "iopub.status.idle": "2024-06-06T03:29:24.926948Z",
     "shell.execute_reply": "2024-06-06T03:29:24.925831Z"
    },
    "papermill": {
     "duration": 0.023788,
     "end_time": "2024-06-06T03:29:24.929591",
     "exception": false,
     "start_time": "2024-06-06T03:29:24.905803",
     "status": "completed"
    },
    "tags": []
   },
   "outputs": [],
   "source": [
    "# the difference in days between the analysis date and the comment date\n",
    "\n",
    "df[\"days\"] = (today_date - df[\"reviewTime\"]).dt.days"
   ]
  },
  {
   "cell_type": "code",
   "execution_count": 11,
   "id": "8263d626",
   "metadata": {
    "execution": {
     "iopub.execute_input": "2024-06-06T03:29:24.955740Z",
     "iopub.status.busy": "2024-06-06T03:29:24.955287Z",
     "iopub.status.idle": "2024-06-06T03:29:24.970112Z",
     "shell.execute_reply": "2024-06-06T03:29:24.968941Z"
    },
    "papermill": {
     "duration": 0.030668,
     "end_time": "2024-06-06T03:29:24.972579",
     "exception": false,
     "start_time": "2024-06-06T03:29:24.941911",
     "status": "completed"
    },
    "tags": []
   },
   "outputs": [
    {
     "data": {
      "text/plain": [
       "count   4915.00000\n",
       "mean     438.36704\n",
       "std      209.43987\n",
       "min        2.00000\n",
       "25%      282.00000\n",
       "50%      432.00000\n",
       "75%      602.00000\n",
       "max     1065.00000\n",
       "Name: days, dtype: float64"
      ]
     },
     "execution_count": 11,
     "metadata": {},
     "output_type": "execute_result"
    }
   ],
   "source": [
    "df[\"days\"].describe() #descriptive statistics"
   ]
  },
  {
   "cell_type": "markdown",
   "id": "c8db19c3",
   "metadata": {
    "papermill": {
     "duration": 0.011667,
     "end_time": "2024-06-06T03:29:24.996438",
     "exception": false,
     "start_time": "2024-06-06T03:29:24.984771",
     "status": "completed"
    },
    "tags": []
   },
   "source": [
    "## 4. Rating Products"
   ]
  },
  {
   "cell_type": "markdown",
   "id": "dec83265",
   "metadata": {
    "papermill": {
     "duration": 0.011902,
     "end_time": "2024-06-06T03:29:25.020406",
     "exception": false,
     "start_time": "2024-06-06T03:29:25.008504",
     "status": "completed"
    },
    "tags": []
   },
   "source": [
    "### 4.1. Calculating \"Average Rating\" "
   ]
  },
  {
   "cell_type": "code",
   "execution_count": 12,
   "id": "2eaa443c",
   "metadata": {
    "execution": {
     "iopub.execute_input": "2024-06-06T03:29:25.048031Z",
     "iopub.status.busy": "2024-06-06T03:29:25.047440Z",
     "iopub.status.idle": "2024-06-06T03:29:25.056456Z",
     "shell.execute_reply": "2024-06-06T03:29:25.055232Z"
    },
    "papermill": {
     "duration": 0.026513,
     "end_time": "2024-06-06T03:29:25.059054",
     "exception": false,
     "start_time": "2024-06-06T03:29:25.032541",
     "status": "completed"
    },
    "tags": []
   },
   "outputs": [
    {
     "data": {
      "text/plain": [
       "4.587589013224822"
      ]
     },
     "execution_count": 12,
     "metadata": {},
     "output_type": "execute_result"
    }
   ],
   "source": [
    "#average rating:\n",
    "\n",
    "df[\"overall\"].mean()"
   ]
  },
  {
   "cell_type": "markdown",
   "id": "155af5e9",
   "metadata": {
    "papermill": {
     "duration": 0.012706,
     "end_time": "2024-06-06T03:29:25.084213",
     "exception": false,
     "start_time": "2024-06-06T03:29:25.071507",
     "status": "completed"
    },
    "tags": []
   },
   "source": [
    "### 4.2. Calculating \"Time-based Weighted Average Rating\""
   ]
  },
  {
   "cell_type": "code",
   "execution_count": 13,
   "id": "8b91e691",
   "metadata": {
    "execution": {
     "iopub.execute_input": "2024-06-06T03:29:25.115673Z",
     "iopub.status.busy": "2024-06-06T03:29:25.114391Z",
     "iopub.status.idle": "2024-06-06T03:29:25.124586Z",
     "shell.execute_reply": "2024-06-06T03:29:25.123224Z"
    },
    "papermill": {
     "duration": 0.029282,
     "end_time": "2024-06-06T03:29:25.127316",
     "exception": false,
     "start_time": "2024-06-06T03:29:25.098034",
     "status": "completed"
    },
    "tags": []
   },
   "outputs": [],
   "source": [
    "# defining Time-based Weighted Average function:\n",
    "\n",
    "def time_based_weighted_average(dataframe, w1=28, w2=26, w3=24, w4=22):\n",
    "    return dataframe.loc[dataframe[\"day_diff\"] <= dataframe[\"day_diff\"].quantile(0.25), \"overall\"].mean() * w1 / 100 + \\\n",
    "           dataframe.loc[(dataframe[\"day_diff\"] > dataframe[\"day_diff\"].quantile(0.25)) & (dataframe[\"day_diff\"] <= dataframe[\"day_diff\"].quantile(0.50)), \"overall\"].mean() * w2 / 100 + \\\n",
    "           dataframe.loc[(dataframe[\"day_diff\"] > dataframe[\"day_diff\"].quantile(0.50)) & (dataframe[\"day_diff\"] <= dataframe[\"day_diff\"].quantile(0.75)), \"overall\"].mean() * w3 / 100 + \\\n",
    "           dataframe.loc[(dataframe[\"day_diff\"] > dataframe[\"day_diff\"].quantile(0.75)), \"overall\"].mean() * w4 / 100"
   ]
  },
  {
   "cell_type": "code",
   "execution_count": 14,
   "id": "3817c438",
   "metadata": {
    "execution": {
     "iopub.execute_input": "2024-06-06T03:29:25.154945Z",
     "iopub.status.busy": "2024-06-06T03:29:25.153968Z",
     "iopub.status.idle": "2024-06-06T03:29:25.172418Z",
     "shell.execute_reply": "2024-06-06T03:29:25.171317Z"
    },
    "papermill": {
     "duration": 0.035522,
     "end_time": "2024-06-06T03:29:25.175549",
     "exception": false,
     "start_time": "2024-06-06T03:29:25.140027",
     "status": "completed"
    },
    "tags": []
   },
   "outputs": [
    {
     "data": {
      "text/plain": [
       "4.595593165128118"
      ]
     },
     "execution_count": 14,
     "metadata": {},
     "output_type": "execute_result"
    }
   ],
   "source": [
    "#calculating Time-based Weighted Average:\n",
    "\n",
    "time_based_weighted_average(df)"
   ]
  },
  {
   "cell_type": "markdown",
   "id": "dd1daeb1",
   "metadata": {
    "papermill": {
     "duration": 0.012139,
     "end_time": "2024-06-06T03:29:25.200068",
     "exception": false,
     "start_time": "2024-06-06T03:29:25.187929",
     "status": "completed"
    },
    "tags": []
   },
   "source": [
    "### 4.3. Comparing the Average of Each Time Period"
   ]
  },
  {
   "cell_type": "code",
   "execution_count": 15,
   "id": "04d51f05",
   "metadata": {
    "execution": {
     "iopub.execute_input": "2024-06-06T03:29:25.227285Z",
     "iopub.status.busy": "2024-06-06T03:29:25.226869Z",
     "iopub.status.idle": "2024-06-06T03:29:25.238287Z",
     "shell.execute_reply": "2024-06-06T03:29:25.236957Z"
    },
    "papermill": {
     "duration": 0.028068,
     "end_time": "2024-06-06T03:29:25.241005",
     "exception": false,
     "start_time": "2024-06-06T03:29:25.212937",
     "status": "completed"
    },
    "tags": []
   },
   "outputs": [
    {
     "data": {
      "text/plain": [
       "4.6957928802588995"
      ]
     },
     "execution_count": 15,
     "metadata": {},
     "output_type": "execute_result"
    }
   ],
   "source": [
    "df.loc[df[\"day_diff\"] <= df[\"day_diff\"].quantile(0.25), \"overall\"].mean() "
   ]
  },
  {
   "cell_type": "code",
   "execution_count": 16,
   "id": "0e8b5643",
   "metadata": {
    "execution": {
     "iopub.execute_input": "2024-06-06T03:29:25.269099Z",
     "iopub.status.busy": "2024-06-06T03:29:25.268664Z",
     "iopub.status.idle": "2024-06-06T03:29:25.281466Z",
     "shell.execute_reply": "2024-06-06T03:29:25.280342Z"
    },
    "papermill": {
     "duration": 0.029943,
     "end_time": "2024-06-06T03:29:25.284181",
     "exception": false,
     "start_time": "2024-06-06T03:29:25.254238",
     "status": "completed"
    },
    "tags": []
   },
   "outputs": [
    {
     "data": {
      "text/plain": [
       "4.636140637775961"
      ]
     },
     "execution_count": 16,
     "metadata": {},
     "output_type": "execute_result"
    }
   ],
   "source": [
    "df.loc[(df[\"day_diff\"] > df[\"day_diff\"].quantile(0.25)) & (df[\"day_diff\"] <= df[\"day_diff\"].quantile(0.50)), \"overall\"].mean()"
   ]
  },
  {
   "cell_type": "code",
   "execution_count": 17,
   "id": "c59492fd",
   "metadata": {
    "execution": {
     "iopub.execute_input": "2024-06-06T03:29:25.311411Z",
     "iopub.status.busy": "2024-06-06T03:29:25.310965Z",
     "iopub.status.idle": "2024-06-06T03:29:25.323693Z",
     "shell.execute_reply": "2024-06-06T03:29:25.322329Z"
    },
    "papermill": {
     "duration": 0.029447,
     "end_time": "2024-06-06T03:29:25.326494",
     "exception": false,
     "start_time": "2024-06-06T03:29:25.297047",
     "status": "completed"
    },
    "tags": []
   },
   "outputs": [
    {
     "data": {
      "text/plain": [
       "4.571661237785016"
      ]
     },
     "execution_count": 17,
     "metadata": {},
     "output_type": "execute_result"
    }
   ],
   "source": [
    "df.loc[(df[\"day_diff\"] > df[\"day_diff\"].quantile(0.50)) & (df[\"day_diff\"] <= df[\"day_diff\"].quantile(0.75)), \"overall\"].mean()"
   ]
  },
  {
   "cell_type": "code",
   "execution_count": 18,
   "id": "9b8ea6a8",
   "metadata": {
    "execution": {
     "iopub.execute_input": "2024-06-06T03:29:25.354821Z",
     "iopub.status.busy": "2024-06-06T03:29:25.354338Z",
     "iopub.status.idle": "2024-06-06T03:29:25.365359Z",
     "shell.execute_reply": "2024-06-06T03:29:25.364150Z"
    },
    "papermill": {
     "duration": 0.028487,
     "end_time": "2024-06-06T03:29:25.368069",
     "exception": false,
     "start_time": "2024-06-06T03:29:25.339582",
     "status": "completed"
    },
    "tags": []
   },
   "outputs": [
    {
     "data": {
      "text/plain": [
       "4.4462540716612375"
      ]
     },
     "execution_count": 18,
     "metadata": {},
     "output_type": "execute_result"
    }
   ],
   "source": [
    "df.loc[(df[\"day_diff\"] > df[\"day_diff\"].quantile(0.75)), \"overall\"].mean()"
   ]
  },
  {
   "cell_type": "markdown",
   "id": "4a7bf492",
   "metadata": {
    "papermill": {
     "duration": 0.012654,
     "end_time": "2024-06-06T03:29:25.393880",
     "exception": false,
     "start_time": "2024-06-06T03:29:25.381226",
     "status": "completed"
    },
    "tags": []
   },
   "source": [
    "**NOTE:**\n",
    "\n",
    "> * Improvements may have been made to the product over time. \n",
    "> * In the scoring, the score of recent comments seems to have increased."
   ]
  },
  {
   "cell_type": "markdown",
   "id": "edf93d0a",
   "metadata": {
    "papermill": {
     "duration": 0.013727,
     "end_time": "2024-06-06T03:29:25.421274",
     "exception": false,
     "start_time": "2024-06-06T03:29:25.407547",
     "status": "completed"
    },
    "tags": []
   },
   "source": [
    "## 5. Sorting Reviews"
   ]
  },
  {
   "cell_type": "markdown",
   "id": "57351e0a",
   "metadata": {
    "papermill": {
     "duration": 0.012724,
     "end_time": "2024-06-06T03:29:25.447552",
     "exception": false,
     "start_time": "2024-06-06T03:29:25.434828",
     "status": "completed"
    },
    "tags": []
   },
   "source": [
    "### 5.1. Calculating Scores"
   ]
  },
  {
   "cell_type": "code",
   "execution_count": 19,
   "id": "54eac823",
   "metadata": {
    "execution": {
     "iopub.execute_input": "2024-06-06T03:29:25.475228Z",
     "iopub.status.busy": "2024-06-06T03:29:25.474772Z",
     "iopub.status.idle": "2024-06-06T03:29:25.481960Z",
     "shell.execute_reply": "2024-06-06T03:29:25.480598Z"
    },
    "papermill": {
     "duration": 0.024094,
     "end_time": "2024-06-06T03:29:25.484647",
     "exception": false,
     "start_time": "2024-06-06T03:29:25.460553",
     "status": "completed"
    },
    "tags": []
   },
   "outputs": [],
   "source": [
    "#creating a new column\n",
    "\n",
    "df[\"helpful_no\"] = df[\"total_vote\"] - df[\"helpful_yes\"]"
   ]
  },
  {
   "cell_type": "markdown",
   "id": "e5cb99d8",
   "metadata": {
    "papermill": {
     "duration": 0.012591,
     "end_time": "2024-06-06T03:29:25.510366",
     "exception": false,
     "start_time": "2024-06-06T03:29:25.497775",
     "status": "completed"
    },
    "tags": []
   },
   "source": [
    "**NOTE:**\n",
    "\n",
    "> * **total_vote :** the total number of up-down votes given to a comment.\n",
    "> * **up :** helpful.\n",
    "> * **helpful_no :** not helpful."
   ]
  },
  {
   "cell_type": "code",
   "execution_count": 20,
   "id": "c62cd4b8",
   "metadata": {
    "execution": {
     "iopub.execute_input": "2024-06-06T03:29:25.537966Z",
     "iopub.status.busy": "2024-06-06T03:29:25.537560Z",
     "iopub.status.idle": "2024-06-06T03:29:25.650897Z",
     "shell.execute_reply": "2024-06-06T03:29:25.649498Z"
    },
    "papermill": {
     "duration": 0.130371,
     "end_time": "2024-06-06T03:29:25.653760",
     "exception": false,
     "start_time": "2024-06-06T03:29:25.523389",
     "status": "completed"
    },
    "tags": []
   },
   "outputs": [],
   "source": [
    "# up-down difference score\n",
    "# defining score_pos_neg_diff function:\n",
    "\n",
    "def score_pos_neg_diff(up,down):\n",
    "    return up-down\n",
    "\n",
    "df[\"score_pos_neg_diff\"] = df.apply(lambda x: score_pos_neg_diff(x[\"helpful_yes\"],x[\"helpful_no\"]),axis=1)\n"
   ]
  },
  {
   "cell_type": "code",
   "execution_count": 21,
   "id": "3e686184",
   "metadata": {
    "execution": {
     "iopub.execute_input": "2024-06-06T03:29:25.681968Z",
     "iopub.status.busy": "2024-06-06T03:29:25.681543Z",
     "iopub.status.idle": "2024-06-06T03:29:25.705278Z",
     "shell.execute_reply": "2024-06-06T03:29:25.703893Z"
    },
    "papermill": {
     "duration": 0.041049,
     "end_time": "2024-06-06T03:29:25.708083",
     "exception": false,
     "start_time": "2024-06-06T03:29:25.667034",
     "status": "completed"
    },
    "tags": []
   },
   "outputs": [
    {
     "data": {
      "text/html": [
       "<div>\n",
       "<style scoped>\n",
       "    .dataframe tbody tr th:only-of-type {\n",
       "        vertical-align: middle;\n",
       "    }\n",
       "\n",
       "    .dataframe tbody tr th {\n",
       "        vertical-align: top;\n",
       "    }\n",
       "\n",
       "    .dataframe thead th {\n",
       "        text-align: right;\n",
       "    }\n",
       "</style>\n",
       "<table border=\"1\" class=\"dataframe\">\n",
       "  <thead>\n",
       "    <tr style=\"text-align: right;\">\n",
       "      <th></th>\n",
       "      <th>reviewerID</th>\n",
       "      <th>asin</th>\n",
       "      <th>reviewerName</th>\n",
       "      <th>helpful</th>\n",
       "      <th>reviewText</th>\n",
       "      <th>overall</th>\n",
       "      <th>summary</th>\n",
       "      <th>unixReviewTime</th>\n",
       "      <th>reviewTime</th>\n",
       "      <th>day_diff</th>\n",
       "      <th>helpful_yes</th>\n",
       "      <th>total_vote</th>\n",
       "      <th>days</th>\n",
       "      <th>helpful_no</th>\n",
       "      <th>score_pos_neg_diff</th>\n",
       "    </tr>\n",
       "  </thead>\n",
       "  <tbody>\n",
       "    <tr>\n",
       "      <th>2031</th>\n",
       "      <td>A12B7ZMXFI6IXY</td>\n",
       "      <td>B007WTAJTO</td>\n",
       "      <td>Hyoun Kim \"Faluzure\"</td>\n",
       "      <td>[1952, 2020]</td>\n",
       "      <td>[[ UPDATE - 6/19/2014 ]]So my lovely wife boug...</td>\n",
       "      <td>5.00000</td>\n",
       "      <td>UPDATED - Great w/ Galaxy S4 &amp; Galaxy Tab 4 10...</td>\n",
       "      <td>1970-01-01 00:00:01.367366400</td>\n",
       "      <td>2013-01-05</td>\n",
       "      <td>702</td>\n",
       "      <td>1952</td>\n",
       "      <td>2020</td>\n",
       "      <td>703</td>\n",
       "      <td>68</td>\n",
       "      <td>1884</td>\n",
       "    </tr>\n",
       "    <tr>\n",
       "      <th>4212</th>\n",
       "      <td>AVBMZZAFEKO58</td>\n",
       "      <td>B007WTAJTO</td>\n",
       "      <td>SkincareCEO</td>\n",
       "      <td>[1568, 1694]</td>\n",
       "      <td>NOTE:  please read the last update (scroll to ...</td>\n",
       "      <td>1.00000</td>\n",
       "      <td>1 Star reviews - Micro SDXC card unmounts itse...</td>\n",
       "      <td>1970-01-01 00:00:01.375660800</td>\n",
       "      <td>2013-05-08</td>\n",
       "      <td>579</td>\n",
       "      <td>1568</td>\n",
       "      <td>1694</td>\n",
       "      <td>580</td>\n",
       "      <td>126</td>\n",
       "      <td>1442</td>\n",
       "    </tr>\n",
       "    <tr>\n",
       "      <th>3449</th>\n",
       "      <td>AOEAD7DPLZE53</td>\n",
       "      <td>B007WTAJTO</td>\n",
       "      <td>NLee the Engineer</td>\n",
       "      <td>[1428, 1505]</td>\n",
       "      <td>I have tested dozens of SDHC and micro-SDHC ca...</td>\n",
       "      <td>5.00000</td>\n",
       "      <td>Top of the class among all (budget-priced) mic...</td>\n",
       "      <td>1970-01-01 00:00:01.348617600</td>\n",
       "      <td>2012-09-26</td>\n",
       "      <td>803</td>\n",
       "      <td>1428</td>\n",
       "      <td>1505</td>\n",
       "      <td>804</td>\n",
       "      <td>77</td>\n",
       "      <td>1351</td>\n",
       "    </tr>\n",
       "    <tr>\n",
       "      <th>317</th>\n",
       "      <td>A1ZQAQFYSXL5MQ</td>\n",
       "      <td>B007WTAJTO</td>\n",
       "      <td>Amazon Customer \"Kelly\"</td>\n",
       "      <td>[422, 495]</td>\n",
       "      <td>If your card gets hot enough to be painful, it...</td>\n",
       "      <td>1.00000</td>\n",
       "      <td>Warning, read this!</td>\n",
       "      <td>1970-01-01 00:00:01.346544000</td>\n",
       "      <td>2012-02-09</td>\n",
       "      <td>1033</td>\n",
       "      <td>422</td>\n",
       "      <td>495</td>\n",
       "      <td>1034</td>\n",
       "      <td>73</td>\n",
       "      <td>349</td>\n",
       "    </tr>\n",
       "    <tr>\n",
       "      <th>3981</th>\n",
       "      <td>A1K91XXQ6ZEBQR</td>\n",
       "      <td>B007WTAJTO</td>\n",
       "      <td>R. Sutton, Jr. \"RWSynergy\"</td>\n",
       "      <td>[112, 139]</td>\n",
       "      <td>The last few days I have been diligently shopp...</td>\n",
       "      <td>5.00000</td>\n",
       "      <td>Resolving confusion between \"Mobile Ultra\" and...</td>\n",
       "      <td>1970-01-01 00:00:01.350864000</td>\n",
       "      <td>2012-10-22</td>\n",
       "      <td>777</td>\n",
       "      <td>112</td>\n",
       "      <td>139</td>\n",
       "      <td>778</td>\n",
       "      <td>27</td>\n",
       "      <td>85</td>\n",
       "    </tr>\n",
       "  </tbody>\n",
       "</table>\n",
       "</div>"
      ],
      "text/plain": [
       "          reviewerID        asin                reviewerName       helpful                                         reviewText  overall                                            summary                unixReviewTime reviewTime  day_diff  helpful_yes  total_vote  days  helpful_no  score_pos_neg_diff\n",
       "2031  A12B7ZMXFI6IXY  B007WTAJTO        Hyoun Kim \"Faluzure\"  [1952, 2020]  [[ UPDATE - 6/19/2014 ]]So my lovely wife boug...  5.00000  UPDATED - Great w/ Galaxy S4 & Galaxy Tab 4 10... 1970-01-01 00:00:01.367366400 2013-01-05       702         1952        2020   703          68                1884\n",
       "4212   AVBMZZAFEKO58  B007WTAJTO                 SkincareCEO  [1568, 1694]  NOTE:  please read the last update (scroll to ...  1.00000  1 Star reviews - Micro SDXC card unmounts itse... 1970-01-01 00:00:01.375660800 2013-05-08       579         1568        1694   580         126                1442\n",
       "3449   AOEAD7DPLZE53  B007WTAJTO           NLee the Engineer  [1428, 1505]  I have tested dozens of SDHC and micro-SDHC ca...  5.00000  Top of the class among all (budget-priced) mic... 1970-01-01 00:00:01.348617600 2012-09-26       803         1428        1505   804          77                1351\n",
       "317   A1ZQAQFYSXL5MQ  B007WTAJTO     Amazon Customer \"Kelly\"    [422, 495]  If your card gets hot enough to be painful, it...  1.00000                                Warning, read this! 1970-01-01 00:00:01.346544000 2012-02-09      1033          422         495  1034          73                 349\n",
       "3981  A1K91XXQ6ZEBQR  B007WTAJTO  R. Sutton, Jr. \"RWSynergy\"    [112, 139]  The last few days I have been diligently shopp...  5.00000  Resolving confusion between \"Mobile Ultra\" and... 1970-01-01 00:00:01.350864000 2012-10-22       777          112         139   778          27                  85"
      ]
     },
     "execution_count": 21,
     "metadata": {},
     "output_type": "execute_result"
    }
   ],
   "source": [
    "# checking the score_pos_neg_diff sorting:\n",
    "\n",
    "df.sort_values(by=\"score_pos_neg_diff\",ascending=False).head()"
   ]
  },
  {
   "cell_type": "code",
   "execution_count": 22,
   "id": "9103c660",
   "metadata": {
    "execution": {
     "iopub.execute_input": "2024-06-06T03:29:25.737054Z",
     "iopub.status.busy": "2024-06-06T03:29:25.736606Z",
     "iopub.status.idle": "2024-06-06T03:29:25.930027Z",
     "shell.execute_reply": "2024-06-06T03:29:25.928857Z"
    },
    "papermill": {
     "duration": 0.211096,
     "end_time": "2024-06-06T03:29:25.932842",
     "exception": false,
     "start_time": "2024-06-06T03:29:25.721746",
     "status": "completed"
    },
    "tags": []
   },
   "outputs": [],
   "source": [
    "# average rating score\n",
    "# defining score_average_rating function:\n",
    "\n",
    "def score_average_rating (up,down):\n",
    "    if up+down == 0:\n",
    "        return 0\n",
    "    return up/(up+down)\n",
    "\n",
    "df[\"score_average_rating\"] = df.apply(lambda x: score_average_rating(x[\"helpful_yes\"],x[\"helpful_no\"]),axis=1)"
   ]
  },
  {
   "cell_type": "code",
   "execution_count": 23,
   "id": "71ab8e3c",
   "metadata": {
    "execution": {
     "iopub.execute_input": "2024-06-06T03:29:25.962529Z",
     "iopub.status.busy": "2024-06-06T03:29:25.962021Z",
     "iopub.status.idle": "2024-06-06T03:29:25.983971Z",
     "shell.execute_reply": "2024-06-06T03:29:25.982718Z"
    },
    "papermill": {
     "duration": 0.039848,
     "end_time": "2024-06-06T03:29:25.986786",
     "exception": false,
     "start_time": "2024-06-06T03:29:25.946938",
     "status": "completed"
    },
    "tags": []
   },
   "outputs": [
    {
     "data": {
      "text/html": [
       "<div>\n",
       "<style scoped>\n",
       "    .dataframe tbody tr th:only-of-type {\n",
       "        vertical-align: middle;\n",
       "    }\n",
       "\n",
       "    .dataframe tbody tr th {\n",
       "        vertical-align: top;\n",
       "    }\n",
       "\n",
       "    .dataframe thead th {\n",
       "        text-align: right;\n",
       "    }\n",
       "</style>\n",
       "<table border=\"1\" class=\"dataframe\">\n",
       "  <thead>\n",
       "    <tr style=\"text-align: right;\">\n",
       "      <th></th>\n",
       "      <th>reviewerID</th>\n",
       "      <th>asin</th>\n",
       "      <th>reviewerName</th>\n",
       "      <th>helpful</th>\n",
       "      <th>reviewText</th>\n",
       "      <th>overall</th>\n",
       "      <th>summary</th>\n",
       "      <th>unixReviewTime</th>\n",
       "      <th>reviewTime</th>\n",
       "      <th>day_diff</th>\n",
       "      <th>helpful_yes</th>\n",
       "      <th>total_vote</th>\n",
       "      <th>days</th>\n",
       "      <th>helpful_no</th>\n",
       "      <th>score_pos_neg_diff</th>\n",
       "      <th>score_average_rating</th>\n",
       "    </tr>\n",
       "  </thead>\n",
       "  <tbody>\n",
       "    <tr>\n",
       "      <th>4277</th>\n",
       "      <td>A35KXSU6AD1481</td>\n",
       "      <td>B007WTAJTO</td>\n",
       "      <td>S. Q.</td>\n",
       "      <td>[1, 1]</td>\n",
       "      <td>I have a galaxy note II and after rooting I no...</td>\n",
       "      <td>5.00000</td>\n",
       "      <td>Perfect!!</td>\n",
       "      <td>1970-01-01 00:00:01.355875200</td>\n",
       "      <td>2012-12-19</td>\n",
       "      <td>719</td>\n",
       "      <td>1</td>\n",
       "      <td>1</td>\n",
       "      <td>720</td>\n",
       "      <td>0</td>\n",
       "      <td>1</td>\n",
       "      <td>1.00000</td>\n",
       "    </tr>\n",
       "    <tr>\n",
       "      <th>2881</th>\n",
       "      <td>A3VSG5X7GPNNW6</td>\n",
       "      <td>B007WTAJTO</td>\n",
       "      <td>Lou Thomas</td>\n",
       "      <td>[1, 1]</td>\n",
       "      <td>The Nexus One is listed as supporting a maximu...</td>\n",
       "      <td>5.00000</td>\n",
       "      <td>Nexus One Loves This Card!</td>\n",
       "      <td>1970-01-01 00:00:01.349049600</td>\n",
       "      <td>2012-01-10</td>\n",
       "      <td>1063</td>\n",
       "      <td>1</td>\n",
       "      <td>1</td>\n",
       "      <td>1064</td>\n",
       "      <td>0</td>\n",
       "      <td>1</td>\n",
       "      <td>1.00000</td>\n",
       "    </tr>\n",
       "    <tr>\n",
       "      <th>1073</th>\n",
       "      <td>A2ZXEKQ2OBZLEE</td>\n",
       "      <td>B007WTAJTO</td>\n",
       "      <td>C. Sanchez</td>\n",
       "      <td>[1, 1]</td>\n",
       "      <td>I used it with my Samsung S4 and it works grea...</td>\n",
       "      <td>5.00000</td>\n",
       "      <td>Tons of space for phone</td>\n",
       "      <td>1970-01-01 00:00:01.376352000</td>\n",
       "      <td>2013-08-13</td>\n",
       "      <td>482</td>\n",
       "      <td>1</td>\n",
       "      <td>1</td>\n",
       "      <td>483</td>\n",
       "      <td>0</td>\n",
       "      <td>1</td>\n",
       "      <td>1.00000</td>\n",
       "    </tr>\n",
       "    <tr>\n",
       "      <th>445</th>\n",
       "      <td>AIWBDRNBODLEA</td>\n",
       "      <td>B007WTAJTO</td>\n",
       "      <td>Apache \"Elizabeth\"</td>\n",
       "      <td>[1, 1]</td>\n",
       "      <td>This is exactly what I was looking for to upgr...</td>\n",
       "      <td>4.00000</td>\n",
       "      <td>Amazon Great Prices</td>\n",
       "      <td>1970-01-01 00:00:01.387324800</td>\n",
       "      <td>2013-12-18</td>\n",
       "      <td>355</td>\n",
       "      <td>1</td>\n",
       "      <td>1</td>\n",
       "      <td>356</td>\n",
       "      <td>0</td>\n",
       "      <td>1</td>\n",
       "      <td>1.00000</td>\n",
       "    </tr>\n",
       "    <tr>\n",
       "      <th>3923</th>\n",
       "      <td>A2PH4RGYVR34L</td>\n",
       "      <td>B007WTAJTO</td>\n",
       "      <td>Rock Your Roots</td>\n",
       "      <td>[1, 1]</td>\n",
       "      <td>It's a SanDisk, so what more is there to say? ...</td>\n",
       "      <td>5.00000</td>\n",
       "      <td>What more to say?</td>\n",
       "      <td>1970-01-01 00:00:01.388361600</td>\n",
       "      <td>2013-12-30</td>\n",
       "      <td>343</td>\n",
       "      <td>1</td>\n",
       "      <td>1</td>\n",
       "      <td>344</td>\n",
       "      <td>0</td>\n",
       "      <td>1</td>\n",
       "      <td>1.00000</td>\n",
       "    </tr>\n",
       "  </tbody>\n",
       "</table>\n",
       "</div>"
      ],
      "text/plain": [
       "          reviewerID        asin        reviewerName helpful                                         reviewText  overall                     summary                unixReviewTime reviewTime  day_diff  helpful_yes  total_vote  days  helpful_no  score_pos_neg_diff  score_average_rating\n",
       "4277  A35KXSU6AD1481  B007WTAJTO               S. Q.  [1, 1]  I have a galaxy note II and after rooting I no...  5.00000                   Perfect!! 1970-01-01 00:00:01.355875200 2012-12-19       719            1           1   720           0                   1               1.00000\n",
       "2881  A3VSG5X7GPNNW6  B007WTAJTO          Lou Thomas  [1, 1]  The Nexus One is listed as supporting a maximu...  5.00000  Nexus One Loves This Card! 1970-01-01 00:00:01.349049600 2012-01-10      1063            1           1  1064           0                   1               1.00000\n",
       "1073  A2ZXEKQ2OBZLEE  B007WTAJTO          C. Sanchez  [1, 1]  I used it with my Samsung S4 and it works grea...  5.00000     Tons of space for phone 1970-01-01 00:00:01.376352000 2013-08-13       482            1           1   483           0                   1               1.00000\n",
       "445    AIWBDRNBODLEA  B007WTAJTO  Apache \"Elizabeth\"  [1, 1]  This is exactly what I was looking for to upgr...  4.00000         Amazon Great Prices 1970-01-01 00:00:01.387324800 2013-12-18       355            1           1   356           0                   1               1.00000\n",
       "3923   A2PH4RGYVR34L  B007WTAJTO     Rock Your Roots  [1, 1]  It's a SanDisk, so what more is there to say? ...  5.00000           What more to say? 1970-01-01 00:00:01.388361600 2013-12-30       343            1           1   344           0                   1               1.00000"
      ]
     },
     "execution_count": 23,
     "metadata": {},
     "output_type": "execute_result"
    }
   ],
   "source": [
    "# checking the score_average_rating sorting:\n",
    "\n",
    "df.sort_values(by=\"score_average_rating\",ascending=False).head()"
   ]
  },
  {
   "cell_type": "code",
   "execution_count": 24,
   "id": "08ffe908",
   "metadata": {
    "execution": {
     "iopub.execute_input": "2024-06-06T03:29:26.017347Z",
     "iopub.status.busy": "2024-06-06T03:29:26.016899Z",
     "iopub.status.idle": "2024-06-06T03:29:26.237944Z",
     "shell.execute_reply": "2024-06-06T03:29:26.236643Z"
    },
    "papermill": {
     "duration": 0.23989,
     "end_time": "2024-06-06T03:29:26.241022",
     "exception": false,
     "start_time": "2024-06-06T03:29:26.001132",
     "status": "completed"
    },
    "tags": []
   },
   "outputs": [],
   "source": [
    "# wilson lower bound score\n",
    "# defining wilson_lower_bound function:\n",
    "\n",
    "def wilson_lower_bound(up, down, confidence = 0.95):\n",
    "    n = up + down\n",
    "    if n == 0:\n",
    "        return 0\n",
    "    z = st.norm.ppf(1 - (1 - confidence) / 2)\n",
    "    phat = 1.0 * up / n\n",
    "    return (phat + z * z / (2 * n) - z * math.sqrt((phat * (1 - phat) + z * z / (4 * n)) / n)) / (1 + z * z / n)\n",
    "\n",
    "df[\"wilson_lower_bound\"] = df.apply(lambda x: wilson_lower_bound( x[\"helpful_yes\"], x[\"helpful_no\"]), axis = 1)"
   ]
  },
  {
   "cell_type": "code",
   "execution_count": 25,
   "id": "6503850d",
   "metadata": {
    "execution": {
     "iopub.execute_input": "2024-06-06T03:29:26.271174Z",
     "iopub.status.busy": "2024-06-06T03:29:26.270718Z",
     "iopub.status.idle": "2024-06-06T03:29:26.292600Z",
     "shell.execute_reply": "2024-06-06T03:29:26.291322Z"
    },
    "papermill": {
     "duration": 0.040129,
     "end_time": "2024-06-06T03:29:26.295441",
     "exception": false,
     "start_time": "2024-06-06T03:29:26.255312",
     "status": "completed"
    },
    "tags": []
   },
   "outputs": [
    {
     "data": {
      "text/html": [
       "<div>\n",
       "<style scoped>\n",
       "    .dataframe tbody tr th:only-of-type {\n",
       "        vertical-align: middle;\n",
       "    }\n",
       "\n",
       "    .dataframe tbody tr th {\n",
       "        vertical-align: top;\n",
       "    }\n",
       "\n",
       "    .dataframe thead th {\n",
       "        text-align: right;\n",
       "    }\n",
       "</style>\n",
       "<table border=\"1\" class=\"dataframe\">\n",
       "  <thead>\n",
       "    <tr style=\"text-align: right;\">\n",
       "      <th></th>\n",
       "      <th>reviewerID</th>\n",
       "      <th>asin</th>\n",
       "      <th>reviewerName</th>\n",
       "      <th>helpful</th>\n",
       "      <th>reviewText</th>\n",
       "      <th>overall</th>\n",
       "      <th>summary</th>\n",
       "      <th>unixReviewTime</th>\n",
       "      <th>reviewTime</th>\n",
       "      <th>day_diff</th>\n",
       "      <th>helpful_yes</th>\n",
       "      <th>total_vote</th>\n",
       "      <th>days</th>\n",
       "      <th>helpful_no</th>\n",
       "      <th>score_pos_neg_diff</th>\n",
       "      <th>score_average_rating</th>\n",
       "      <th>wilson_lower_bound</th>\n",
       "    </tr>\n",
       "  </thead>\n",
       "  <tbody>\n",
       "    <tr>\n",
       "      <th>2031</th>\n",
       "      <td>A12B7ZMXFI6IXY</td>\n",
       "      <td>B007WTAJTO</td>\n",
       "      <td>Hyoun Kim \"Faluzure\"</td>\n",
       "      <td>[1952, 2020]</td>\n",
       "      <td>[[ UPDATE - 6/19/2014 ]]So my lovely wife boug...</td>\n",
       "      <td>5.00000</td>\n",
       "      <td>UPDATED - Great w/ Galaxy S4 &amp; Galaxy Tab 4 10...</td>\n",
       "      <td>1970-01-01 00:00:01.367366400</td>\n",
       "      <td>2013-01-05</td>\n",
       "      <td>702</td>\n",
       "      <td>1952</td>\n",
       "      <td>2020</td>\n",
       "      <td>703</td>\n",
       "      <td>68</td>\n",
       "      <td>1884</td>\n",
       "      <td>0.96634</td>\n",
       "      <td>0.95754</td>\n",
       "    </tr>\n",
       "    <tr>\n",
       "      <th>3449</th>\n",
       "      <td>AOEAD7DPLZE53</td>\n",
       "      <td>B007WTAJTO</td>\n",
       "      <td>NLee the Engineer</td>\n",
       "      <td>[1428, 1505]</td>\n",
       "      <td>I have tested dozens of SDHC and micro-SDHC ca...</td>\n",
       "      <td>5.00000</td>\n",
       "      <td>Top of the class among all (budget-priced) mic...</td>\n",
       "      <td>1970-01-01 00:00:01.348617600</td>\n",
       "      <td>2012-09-26</td>\n",
       "      <td>803</td>\n",
       "      <td>1428</td>\n",
       "      <td>1505</td>\n",
       "      <td>804</td>\n",
       "      <td>77</td>\n",
       "      <td>1351</td>\n",
       "      <td>0.94884</td>\n",
       "      <td>0.93652</td>\n",
       "    </tr>\n",
       "    <tr>\n",
       "      <th>4212</th>\n",
       "      <td>AVBMZZAFEKO58</td>\n",
       "      <td>B007WTAJTO</td>\n",
       "      <td>SkincareCEO</td>\n",
       "      <td>[1568, 1694]</td>\n",
       "      <td>NOTE:  please read the last update (scroll to ...</td>\n",
       "      <td>1.00000</td>\n",
       "      <td>1 Star reviews - Micro SDXC card unmounts itse...</td>\n",
       "      <td>1970-01-01 00:00:01.375660800</td>\n",
       "      <td>2013-05-08</td>\n",
       "      <td>579</td>\n",
       "      <td>1568</td>\n",
       "      <td>1694</td>\n",
       "      <td>580</td>\n",
       "      <td>126</td>\n",
       "      <td>1442</td>\n",
       "      <td>0.92562</td>\n",
       "      <td>0.91214</td>\n",
       "    </tr>\n",
       "    <tr>\n",
       "      <th>317</th>\n",
       "      <td>A1ZQAQFYSXL5MQ</td>\n",
       "      <td>B007WTAJTO</td>\n",
       "      <td>Amazon Customer \"Kelly\"</td>\n",
       "      <td>[422, 495]</td>\n",
       "      <td>If your card gets hot enough to be painful, it...</td>\n",
       "      <td>1.00000</td>\n",
       "      <td>Warning, read this!</td>\n",
       "      <td>1970-01-01 00:00:01.346544000</td>\n",
       "      <td>2012-02-09</td>\n",
       "      <td>1033</td>\n",
       "      <td>422</td>\n",
       "      <td>495</td>\n",
       "      <td>1034</td>\n",
       "      <td>73</td>\n",
       "      <td>349</td>\n",
       "      <td>0.85253</td>\n",
       "      <td>0.81858</td>\n",
       "    </tr>\n",
       "    <tr>\n",
       "      <th>4672</th>\n",
       "      <td>A2DKQQIZ793AV5</td>\n",
       "      <td>B007WTAJTO</td>\n",
       "      <td>Twister</td>\n",
       "      <td>[45, 49]</td>\n",
       "      <td>Sandisk announcement of the first 128GB micro ...</td>\n",
       "      <td>5.00000</td>\n",
       "      <td>Super high capacity!!!  Excellent price (on Am...</td>\n",
       "      <td>1970-01-01 00:00:01.394150400</td>\n",
       "      <td>2014-07-03</td>\n",
       "      <td>158</td>\n",
       "      <td>45</td>\n",
       "      <td>49</td>\n",
       "      <td>159</td>\n",
       "      <td>4</td>\n",
       "      <td>41</td>\n",
       "      <td>0.91837</td>\n",
       "      <td>0.80811</td>\n",
       "    </tr>\n",
       "  </tbody>\n",
       "</table>\n",
       "</div>"
      ],
      "text/plain": [
       "          reviewerID        asin             reviewerName       helpful                                         reviewText  overall                                            summary                unixReviewTime reviewTime  day_diff  helpful_yes  total_vote  days  helpful_no  score_pos_neg_diff  score_average_rating  wilson_lower_bound\n",
       "2031  A12B7ZMXFI6IXY  B007WTAJTO     Hyoun Kim \"Faluzure\"  [1952, 2020]  [[ UPDATE - 6/19/2014 ]]So my lovely wife boug...  5.00000  UPDATED - Great w/ Galaxy S4 & Galaxy Tab 4 10... 1970-01-01 00:00:01.367366400 2013-01-05       702         1952        2020   703          68                1884               0.96634             0.95754\n",
       "3449   AOEAD7DPLZE53  B007WTAJTO        NLee the Engineer  [1428, 1505]  I have tested dozens of SDHC and micro-SDHC ca...  5.00000  Top of the class among all (budget-priced) mic... 1970-01-01 00:00:01.348617600 2012-09-26       803         1428        1505   804          77                1351               0.94884             0.93652\n",
       "4212   AVBMZZAFEKO58  B007WTAJTO              SkincareCEO  [1568, 1694]  NOTE:  please read the last update (scroll to ...  1.00000  1 Star reviews - Micro SDXC card unmounts itse... 1970-01-01 00:00:01.375660800 2013-05-08       579         1568        1694   580         126                1442               0.92562             0.91214\n",
       "317   A1ZQAQFYSXL5MQ  B007WTAJTO  Amazon Customer \"Kelly\"    [422, 495]  If your card gets hot enough to be painful, it...  1.00000                                Warning, read this! 1970-01-01 00:00:01.346544000 2012-02-09      1033          422         495  1034          73                 349               0.85253             0.81858\n",
       "4672  A2DKQQIZ793AV5  B007WTAJTO                  Twister      [45, 49]  Sandisk announcement of the first 128GB micro ...  5.00000  Super high capacity!!!  Excellent price (on Am... 1970-01-01 00:00:01.394150400 2014-07-03       158           45          49   159           4                  41               0.91837             0.80811"
      ]
     },
     "execution_count": 25,
     "metadata": {},
     "output_type": "execute_result"
    }
   ],
   "source": [
    "# checking the wilson_lower_bound sorting:\n",
    "\n",
    "df.sort_values(by=\"wilson_lower_bound\",ascending=False).head()"
   ]
  },
  {
   "cell_type": "markdown",
   "id": "a86b00e4",
   "metadata": {
    "papermill": {
     "duration": 0.013684,
     "end_time": "2024-06-06T03:29:26.323360",
     "exception": false,
     "start_time": "2024-06-06T03:29:26.309676",
     "status": "completed"
    },
    "tags": []
   },
   "source": [
    "### 5.2. Determining 20 Reviews to be Displayed on the Product Detail Page"
   ]
  },
  {
   "cell_type": "code",
   "execution_count": 26,
   "id": "f09f13a7",
   "metadata": {
    "execution": {
     "iopub.execute_input": "2024-06-06T03:29:26.354107Z",
     "iopub.status.busy": "2024-06-06T03:29:26.353658Z",
     "iopub.status.idle": "2024-06-06T03:29:26.382583Z",
     "shell.execute_reply": "2024-06-06T03:29:26.381415Z"
    },
    "papermill": {
     "duration": 0.04738,
     "end_time": "2024-06-06T03:29:26.385452",
     "exception": false,
     "start_time": "2024-06-06T03:29:26.338072",
     "status": "completed"
    },
    "tags": []
   },
   "outputs": [
    {
     "data": {
      "text/html": [
       "<div>\n",
       "<style scoped>\n",
       "    .dataframe tbody tr th:only-of-type {\n",
       "        vertical-align: middle;\n",
       "    }\n",
       "\n",
       "    .dataframe tbody tr th {\n",
       "        vertical-align: top;\n",
       "    }\n",
       "\n",
       "    .dataframe thead th {\n",
       "        text-align: right;\n",
       "    }\n",
       "</style>\n",
       "<table border=\"1\" class=\"dataframe\">\n",
       "  <thead>\n",
       "    <tr style=\"text-align: right;\">\n",
       "      <th></th>\n",
       "      <th>reviewerID</th>\n",
       "      <th>asin</th>\n",
       "      <th>reviewerName</th>\n",
       "      <th>helpful</th>\n",
       "      <th>reviewText</th>\n",
       "      <th>overall</th>\n",
       "      <th>summary</th>\n",
       "      <th>unixReviewTime</th>\n",
       "      <th>reviewTime</th>\n",
       "      <th>day_diff</th>\n",
       "      <th>helpful_yes</th>\n",
       "      <th>total_vote</th>\n",
       "      <th>days</th>\n",
       "      <th>helpful_no</th>\n",
       "      <th>score_pos_neg_diff</th>\n",
       "      <th>score_average_rating</th>\n",
       "      <th>wilson_lower_bound</th>\n",
       "    </tr>\n",
       "  </thead>\n",
       "  <tbody>\n",
       "    <tr>\n",
       "      <th>2031</th>\n",
       "      <td>A12B7ZMXFI6IXY</td>\n",
       "      <td>B007WTAJTO</td>\n",
       "      <td>Hyoun Kim \"Faluzure\"</td>\n",
       "      <td>[1952, 2020]</td>\n",
       "      <td>[[ UPDATE - 6/19/2014 ]]So my lovely wife boug...</td>\n",
       "      <td>5.00000</td>\n",
       "      <td>UPDATED - Great w/ Galaxy S4 &amp; Galaxy Tab 4 10...</td>\n",
       "      <td>1970-01-01 00:00:01.367366400</td>\n",
       "      <td>2013-01-05</td>\n",
       "      <td>702</td>\n",
       "      <td>1952</td>\n",
       "      <td>2020</td>\n",
       "      <td>703</td>\n",
       "      <td>68</td>\n",
       "      <td>1884</td>\n",
       "      <td>0.96634</td>\n",
       "      <td>0.95754</td>\n",
       "    </tr>\n",
       "    <tr>\n",
       "      <th>3449</th>\n",
       "      <td>AOEAD7DPLZE53</td>\n",
       "      <td>B007WTAJTO</td>\n",
       "      <td>NLee the Engineer</td>\n",
       "      <td>[1428, 1505]</td>\n",
       "      <td>I have tested dozens of SDHC and micro-SDHC ca...</td>\n",
       "      <td>5.00000</td>\n",
       "      <td>Top of the class among all (budget-priced) mic...</td>\n",
       "      <td>1970-01-01 00:00:01.348617600</td>\n",
       "      <td>2012-09-26</td>\n",
       "      <td>803</td>\n",
       "      <td>1428</td>\n",
       "      <td>1505</td>\n",
       "      <td>804</td>\n",
       "      <td>77</td>\n",
       "      <td>1351</td>\n",
       "      <td>0.94884</td>\n",
       "      <td>0.93652</td>\n",
       "    </tr>\n",
       "    <tr>\n",
       "      <th>4212</th>\n",
       "      <td>AVBMZZAFEKO58</td>\n",
       "      <td>B007WTAJTO</td>\n",
       "      <td>SkincareCEO</td>\n",
       "      <td>[1568, 1694]</td>\n",
       "      <td>NOTE:  please read the last update (scroll to ...</td>\n",
       "      <td>1.00000</td>\n",
       "      <td>1 Star reviews - Micro SDXC card unmounts itse...</td>\n",
       "      <td>1970-01-01 00:00:01.375660800</td>\n",
       "      <td>2013-05-08</td>\n",
       "      <td>579</td>\n",
       "      <td>1568</td>\n",
       "      <td>1694</td>\n",
       "      <td>580</td>\n",
       "      <td>126</td>\n",
       "      <td>1442</td>\n",
       "      <td>0.92562</td>\n",
       "      <td>0.91214</td>\n",
       "    </tr>\n",
       "    <tr>\n",
       "      <th>317</th>\n",
       "      <td>A1ZQAQFYSXL5MQ</td>\n",
       "      <td>B007WTAJTO</td>\n",
       "      <td>Amazon Customer \"Kelly\"</td>\n",
       "      <td>[422, 495]</td>\n",
       "      <td>If your card gets hot enough to be painful, it...</td>\n",
       "      <td>1.00000</td>\n",
       "      <td>Warning, read this!</td>\n",
       "      <td>1970-01-01 00:00:01.346544000</td>\n",
       "      <td>2012-02-09</td>\n",
       "      <td>1033</td>\n",
       "      <td>422</td>\n",
       "      <td>495</td>\n",
       "      <td>1034</td>\n",
       "      <td>73</td>\n",
       "      <td>349</td>\n",
       "      <td>0.85253</td>\n",
       "      <td>0.81858</td>\n",
       "    </tr>\n",
       "    <tr>\n",
       "      <th>4672</th>\n",
       "      <td>A2DKQQIZ793AV5</td>\n",
       "      <td>B007WTAJTO</td>\n",
       "      <td>Twister</td>\n",
       "      <td>[45, 49]</td>\n",
       "      <td>Sandisk announcement of the first 128GB micro ...</td>\n",
       "      <td>5.00000</td>\n",
       "      <td>Super high capacity!!!  Excellent price (on Am...</td>\n",
       "      <td>1970-01-01 00:00:01.394150400</td>\n",
       "      <td>2014-07-03</td>\n",
       "      <td>158</td>\n",
       "      <td>45</td>\n",
       "      <td>49</td>\n",
       "      <td>159</td>\n",
       "      <td>4</td>\n",
       "      <td>41</td>\n",
       "      <td>0.91837</td>\n",
       "      <td>0.80811</td>\n",
       "    </tr>\n",
       "    <tr>\n",
       "      <th>1835</th>\n",
       "      <td>A1J6VSUM80UAF8</td>\n",
       "      <td>B007WTAJTO</td>\n",
       "      <td>goconfigure</td>\n",
       "      <td>[60, 68]</td>\n",
       "      <td>Bought from BestBuy online the day it was anno...</td>\n",
       "      <td>5.00000</td>\n",
       "      <td>I own it</td>\n",
       "      <td>1970-01-01 00:00:01.393545600</td>\n",
       "      <td>2014-02-28</td>\n",
       "      <td>283</td>\n",
       "      <td>60</td>\n",
       "      <td>68</td>\n",
       "      <td>284</td>\n",
       "      <td>8</td>\n",
       "      <td>52</td>\n",
       "      <td>0.88235</td>\n",
       "      <td>0.78465</td>\n",
       "    </tr>\n",
       "    <tr>\n",
       "      <th>3981</th>\n",
       "      <td>A1K91XXQ6ZEBQR</td>\n",
       "      <td>B007WTAJTO</td>\n",
       "      <td>R. Sutton, Jr. \"RWSynergy\"</td>\n",
       "      <td>[112, 139]</td>\n",
       "      <td>The last few days I have been diligently shopp...</td>\n",
       "      <td>5.00000</td>\n",
       "      <td>Resolving confusion between \"Mobile Ultra\" and...</td>\n",
       "      <td>1970-01-01 00:00:01.350864000</td>\n",
       "      <td>2012-10-22</td>\n",
       "      <td>777</td>\n",
       "      <td>112</td>\n",
       "      <td>139</td>\n",
       "      <td>778</td>\n",
       "      <td>27</td>\n",
       "      <td>85</td>\n",
       "      <td>0.80576</td>\n",
       "      <td>0.73214</td>\n",
       "    </tr>\n",
       "    <tr>\n",
       "      <th>3807</th>\n",
       "      <td>AFGRMORWY2QNX</td>\n",
       "      <td>B007WTAJTO</td>\n",
       "      <td>R. Heisler</td>\n",
       "      <td>[22, 25]</td>\n",
       "      <td>I bought this card to replace a lost 16 gig in...</td>\n",
       "      <td>3.00000</td>\n",
       "      <td>Good buy for the money but wait, I had an issue!</td>\n",
       "      <td>1970-01-01 00:00:01.361923200</td>\n",
       "      <td>2013-02-27</td>\n",
       "      <td>649</td>\n",
       "      <td>22</td>\n",
       "      <td>25</td>\n",
       "      <td>650</td>\n",
       "      <td>3</td>\n",
       "      <td>19</td>\n",
       "      <td>0.88000</td>\n",
       "      <td>0.70044</td>\n",
       "    </tr>\n",
       "    <tr>\n",
       "      <th>4306</th>\n",
       "      <td>AOHXKM5URSKAB</td>\n",
       "      <td>B007WTAJTO</td>\n",
       "      <td>Stellar Eller</td>\n",
       "      <td>[51, 65]</td>\n",
       "      <td>While I got this card as a \"deal of the day\" o...</td>\n",
       "      <td>5.00000</td>\n",
       "      <td>Awesome Card!</td>\n",
       "      <td>1970-01-01 00:00:01.339200000</td>\n",
       "      <td>2012-09-06</td>\n",
       "      <td>823</td>\n",
       "      <td>51</td>\n",
       "      <td>65</td>\n",
       "      <td>824</td>\n",
       "      <td>14</td>\n",
       "      <td>37</td>\n",
       "      <td>0.78462</td>\n",
       "      <td>0.67033</td>\n",
       "    </tr>\n",
       "    <tr>\n",
       "      <th>4596</th>\n",
       "      <td>A1WTQUOQ4WG9AI</td>\n",
       "      <td>B007WTAJTO</td>\n",
       "      <td>Tom Henriksen \"Doggy Diner\"</td>\n",
       "      <td>[82, 109]</td>\n",
       "      <td>Hi:I ordered two card and they arrived the nex...</td>\n",
       "      <td>1.00000</td>\n",
       "      <td>Designed incompatibility/Don't support SanDisk</td>\n",
       "      <td>1970-01-01 00:00:01.348272000</td>\n",
       "      <td>2012-09-22</td>\n",
       "      <td>807</td>\n",
       "      <td>82</td>\n",
       "      <td>109</td>\n",
       "      <td>808</td>\n",
       "      <td>27</td>\n",
       "      <td>55</td>\n",
       "      <td>0.75229</td>\n",
       "      <td>0.66359</td>\n",
       "    </tr>\n",
       "    <tr>\n",
       "      <th>315</th>\n",
       "      <td>A2J26NNQX6WKAU</td>\n",
       "      <td>B007WTAJTO</td>\n",
       "      <td>Amazon Customer \"johncrea\"</td>\n",
       "      <td>[38, 48]</td>\n",
       "      <td>Bought this card to use with my Samsung Galaxy...</td>\n",
       "      <td>5.00000</td>\n",
       "      <td>Samsung Galaxy Tab2 works with this card if re...</td>\n",
       "      <td>1970-01-01 00:00:01.344816000</td>\n",
       "      <td>2012-08-13</td>\n",
       "      <td>847</td>\n",
       "      <td>38</td>\n",
       "      <td>48</td>\n",
       "      <td>848</td>\n",
       "      <td>10</td>\n",
       "      <td>28</td>\n",
       "      <td>0.79167</td>\n",
       "      <td>0.65741</td>\n",
       "    </tr>\n",
       "    <tr>\n",
       "      <th>1465</th>\n",
       "      <td>A6I8KXYK24RTB</td>\n",
       "      <td>B007WTAJTO</td>\n",
       "      <td>D. Stein</td>\n",
       "      <td>[7, 7]</td>\n",
       "      <td>I for one have not bought into Google's, or an...</td>\n",
       "      <td>4.00000</td>\n",
       "      <td>Finally.</td>\n",
       "      <td>1970-01-01 00:00:01.397433600</td>\n",
       "      <td>2014-04-14</td>\n",
       "      <td>238</td>\n",
       "      <td>7</td>\n",
       "      <td>7</td>\n",
       "      <td>239</td>\n",
       "      <td>0</td>\n",
       "      <td>7</td>\n",
       "      <td>1.00000</td>\n",
       "      <td>0.64567</td>\n",
       "    </tr>\n",
       "    <tr>\n",
       "      <th>1609</th>\n",
       "      <td>A2TPXOZSU1DACQ</td>\n",
       "      <td>B007WTAJTO</td>\n",
       "      <td>Eskimo</td>\n",
       "      <td>[7, 7]</td>\n",
       "      <td>I have always been a sandisk guy.  This cards ...</td>\n",
       "      <td>5.00000</td>\n",
       "      <td>Bet you wish you had one of these</td>\n",
       "      <td>1970-01-01 00:00:01.395792000</td>\n",
       "      <td>2014-03-26</td>\n",
       "      <td>257</td>\n",
       "      <td>7</td>\n",
       "      <td>7</td>\n",
       "      <td>258</td>\n",
       "      <td>0</td>\n",
       "      <td>7</td>\n",
       "      <td>1.00000</td>\n",
       "      <td>0.64567</td>\n",
       "    </tr>\n",
       "    <tr>\n",
       "      <th>4302</th>\n",
       "      <td>A2EL2GWJ9T0DWY</td>\n",
       "      <td>B007WTAJTO</td>\n",
       "      <td>Stayeraug</td>\n",
       "      <td>[14, 16]</td>\n",
       "      <td>So I got this SD specifically for my GoPro Bla...</td>\n",
       "      <td>5.00000</td>\n",
       "      <td>Perfect with GoPro Black 3+</td>\n",
       "      <td>1970-01-01 00:00:01.395360000</td>\n",
       "      <td>2014-03-21</td>\n",
       "      <td>262</td>\n",
       "      <td>14</td>\n",
       "      <td>16</td>\n",
       "      <td>263</td>\n",
       "      <td>2</td>\n",
       "      <td>12</td>\n",
       "      <td>0.87500</td>\n",
       "      <td>0.63977</td>\n",
       "    </tr>\n",
       "    <tr>\n",
       "      <th>4072</th>\n",
       "      <td>A22GOZTFA02O2F</td>\n",
       "      <td>B007WTAJTO</td>\n",
       "      <td>sb21 \"sb21\"</td>\n",
       "      <td>[6, 6]</td>\n",
       "      <td>I used this for my Samsung Galaxy Tab 2 7.0 . ...</td>\n",
       "      <td>5.00000</td>\n",
       "      <td>Used for my Samsung Galaxy Tab 2 7.0</td>\n",
       "      <td>1970-01-01 00:00:01.347321600</td>\n",
       "      <td>2012-11-09</td>\n",
       "      <td>759</td>\n",
       "      <td>6</td>\n",
       "      <td>6</td>\n",
       "      <td>760</td>\n",
       "      <td>0</td>\n",
       "      <td>6</td>\n",
       "      <td>1.00000</td>\n",
       "      <td>0.60967</td>\n",
       "    </tr>\n",
       "    <tr>\n",
       "      <th>1072</th>\n",
       "      <td>A2O96COBMVY9C4</td>\n",
       "      <td>B007WTAJTO</td>\n",
       "      <td>Crysis Complex</td>\n",
       "      <td>[5, 5]</td>\n",
       "      <td>What more can I say? The 64GB micro SD works f...</td>\n",
       "      <td>5.00000</td>\n",
       "      <td>Works wonders for the Galaxy Note 2!</td>\n",
       "      <td>1970-01-01 00:00:01.349395200</td>\n",
       "      <td>2012-05-10</td>\n",
       "      <td>942</td>\n",
       "      <td>5</td>\n",
       "      <td>5</td>\n",
       "      <td>943</td>\n",
       "      <td>0</td>\n",
       "      <td>5</td>\n",
       "      <td>1.00000</td>\n",
       "      <td>0.56552</td>\n",
       "    </tr>\n",
       "    <tr>\n",
       "      <th>2583</th>\n",
       "      <td>A3MEPYZVTAV90W</td>\n",
       "      <td>B007WTAJTO</td>\n",
       "      <td>J. Wong</td>\n",
       "      <td>[5, 5]</td>\n",
       "      <td>I bought this Class 10 SD card for my GoPro 3 ...</td>\n",
       "      <td>5.00000</td>\n",
       "      <td>Works Great with a GoPro 3 Black!</td>\n",
       "      <td>1970-01-01 00:00:01.370649600</td>\n",
       "      <td>2013-08-06</td>\n",
       "      <td>489</td>\n",
       "      <td>5</td>\n",
       "      <td>5</td>\n",
       "      <td>490</td>\n",
       "      <td>0</td>\n",
       "      <td>5</td>\n",
       "      <td>1.00000</td>\n",
       "      <td>0.56552</td>\n",
       "    </tr>\n",
       "    <tr>\n",
       "      <th>121</th>\n",
       "      <td>A2Z4VVF1NTJWPB</td>\n",
       "      <td>B007WTAJTO</td>\n",
       "      <td>A. Lee</td>\n",
       "      <td>[5, 5]</td>\n",
       "      <td>Update: providing an update with regard to San...</td>\n",
       "      <td>5.00000</td>\n",
       "      <td>ready for use on the Galaxy S3</td>\n",
       "      <td>1970-01-01 00:00:01.346803200</td>\n",
       "      <td>2012-05-09</td>\n",
       "      <td>943</td>\n",
       "      <td>5</td>\n",
       "      <td>5</td>\n",
       "      <td>944</td>\n",
       "      <td>0</td>\n",
       "      <td>5</td>\n",
       "      <td>1.00000</td>\n",
       "      <td>0.56552</td>\n",
       "    </tr>\n",
       "    <tr>\n",
       "      <th>1142</th>\n",
       "      <td>A1PLHPPAJ5MUXG</td>\n",
       "      <td>B007WTAJTO</td>\n",
       "      <td>Daniel Pham(Danpham_X @ yahoo.  com)</td>\n",
       "      <td>[5, 5]</td>\n",
       "      <td>As soon as I saw that this card was announced ...</td>\n",
       "      <td>5.00000</td>\n",
       "      <td>Great large capacity card</td>\n",
       "      <td>1970-01-01 00:00:01.396396800</td>\n",
       "      <td>2014-02-04</td>\n",
       "      <td>307</td>\n",
       "      <td>5</td>\n",
       "      <td>5</td>\n",
       "      <td>308</td>\n",
       "      <td>0</td>\n",
       "      <td>5</td>\n",
       "      <td>1.00000</td>\n",
       "      <td>0.56552</td>\n",
       "    </tr>\n",
       "    <tr>\n",
       "      <th>1753</th>\n",
       "      <td>ALPLKR59QMBUX</td>\n",
       "      <td>B007WTAJTO</td>\n",
       "      <td>G. Becker</td>\n",
       "      <td>[5, 5]</td>\n",
       "      <td>Puchased this card right after I received my S...</td>\n",
       "      <td>5.00000</td>\n",
       "      <td>Use Nothing Other Than the Best</td>\n",
       "      <td>1970-01-01 00:00:01.350864000</td>\n",
       "      <td>2012-10-22</td>\n",
       "      <td>777</td>\n",
       "      <td>5</td>\n",
       "      <td>5</td>\n",
       "      <td>778</td>\n",
       "      <td>0</td>\n",
       "      <td>5</td>\n",
       "      <td>1.00000</td>\n",
       "      <td>0.56552</td>\n",
       "    </tr>\n",
       "  </tbody>\n",
       "</table>\n",
       "</div>"
      ],
      "text/plain": [
       "          reviewerID        asin                          reviewerName       helpful                                         reviewText  overall                                            summary                unixReviewTime reviewTime  day_diff  helpful_yes  total_vote  days  helpful_no  score_pos_neg_diff  score_average_rating  wilson_lower_bound\n",
       "2031  A12B7ZMXFI6IXY  B007WTAJTO                  Hyoun Kim \"Faluzure\"  [1952, 2020]  [[ UPDATE - 6/19/2014 ]]So my lovely wife boug...  5.00000  UPDATED - Great w/ Galaxy S4 & Galaxy Tab 4 10... 1970-01-01 00:00:01.367366400 2013-01-05       702         1952        2020   703          68                1884               0.96634             0.95754\n",
       "3449   AOEAD7DPLZE53  B007WTAJTO                     NLee the Engineer  [1428, 1505]  I have tested dozens of SDHC and micro-SDHC ca...  5.00000  Top of the class among all (budget-priced) mic... 1970-01-01 00:00:01.348617600 2012-09-26       803         1428        1505   804          77                1351               0.94884             0.93652\n",
       "4212   AVBMZZAFEKO58  B007WTAJTO                           SkincareCEO  [1568, 1694]  NOTE:  please read the last update (scroll to ...  1.00000  1 Star reviews - Micro SDXC card unmounts itse... 1970-01-01 00:00:01.375660800 2013-05-08       579         1568        1694   580         126                1442               0.92562             0.91214\n",
       "317   A1ZQAQFYSXL5MQ  B007WTAJTO               Amazon Customer \"Kelly\"    [422, 495]  If your card gets hot enough to be painful, it...  1.00000                                Warning, read this! 1970-01-01 00:00:01.346544000 2012-02-09      1033          422         495  1034          73                 349               0.85253             0.81858\n",
       "4672  A2DKQQIZ793AV5  B007WTAJTO                               Twister      [45, 49]  Sandisk announcement of the first 128GB micro ...  5.00000  Super high capacity!!!  Excellent price (on Am... 1970-01-01 00:00:01.394150400 2014-07-03       158           45          49   159           4                  41               0.91837             0.80811\n",
       "1835  A1J6VSUM80UAF8  B007WTAJTO                           goconfigure      [60, 68]  Bought from BestBuy online the day it was anno...  5.00000                                           I own it 1970-01-01 00:00:01.393545600 2014-02-28       283           60          68   284           8                  52               0.88235             0.78465\n",
       "3981  A1K91XXQ6ZEBQR  B007WTAJTO            R. Sutton, Jr. \"RWSynergy\"    [112, 139]  The last few days I have been diligently shopp...  5.00000  Resolving confusion between \"Mobile Ultra\" and... 1970-01-01 00:00:01.350864000 2012-10-22       777          112         139   778          27                  85               0.80576             0.73214\n",
       "3807   AFGRMORWY2QNX  B007WTAJTO                            R. Heisler      [22, 25]  I bought this card to replace a lost 16 gig in...  3.00000   Good buy for the money but wait, I had an issue! 1970-01-01 00:00:01.361923200 2013-02-27       649           22          25   650           3                  19               0.88000             0.70044\n",
       "4306   AOHXKM5URSKAB  B007WTAJTO                         Stellar Eller      [51, 65]  While I got this card as a \"deal of the day\" o...  5.00000                                      Awesome Card! 1970-01-01 00:00:01.339200000 2012-09-06       823           51          65   824          14                  37               0.78462             0.67033\n",
       "4596  A1WTQUOQ4WG9AI  B007WTAJTO           Tom Henriksen \"Doggy Diner\"     [82, 109]  Hi:I ordered two card and they arrived the nex...  1.00000     Designed incompatibility/Don't support SanDisk 1970-01-01 00:00:01.348272000 2012-09-22       807           82         109   808          27                  55               0.75229             0.66359\n",
       "315   A2J26NNQX6WKAU  B007WTAJTO            Amazon Customer \"johncrea\"      [38, 48]  Bought this card to use with my Samsung Galaxy...  5.00000  Samsung Galaxy Tab2 works with this card if re... 1970-01-01 00:00:01.344816000 2012-08-13       847           38          48   848          10                  28               0.79167             0.65741\n",
       "1465   A6I8KXYK24RTB  B007WTAJTO                              D. Stein        [7, 7]  I for one have not bought into Google's, or an...  4.00000                                           Finally. 1970-01-01 00:00:01.397433600 2014-04-14       238            7           7   239           0                   7               1.00000             0.64567\n",
       "1609  A2TPXOZSU1DACQ  B007WTAJTO                                Eskimo        [7, 7]  I have always been a sandisk guy.  This cards ...  5.00000                  Bet you wish you had one of these 1970-01-01 00:00:01.395792000 2014-03-26       257            7           7   258           0                   7               1.00000             0.64567\n",
       "4302  A2EL2GWJ9T0DWY  B007WTAJTO                             Stayeraug      [14, 16]  So I got this SD specifically for my GoPro Bla...  5.00000                        Perfect with GoPro Black 3+ 1970-01-01 00:00:01.395360000 2014-03-21       262           14          16   263           2                  12               0.87500             0.63977\n",
       "4072  A22GOZTFA02O2F  B007WTAJTO                           sb21 \"sb21\"        [6, 6]  I used this for my Samsung Galaxy Tab 2 7.0 . ...  5.00000               Used for my Samsung Galaxy Tab 2 7.0 1970-01-01 00:00:01.347321600 2012-11-09       759            6           6   760           0                   6               1.00000             0.60967\n",
       "1072  A2O96COBMVY9C4  B007WTAJTO                        Crysis Complex        [5, 5]  What more can I say? The 64GB micro SD works f...  5.00000               Works wonders for the Galaxy Note 2! 1970-01-01 00:00:01.349395200 2012-05-10       942            5           5   943           0                   5               1.00000             0.56552\n",
       "2583  A3MEPYZVTAV90W  B007WTAJTO                               J. Wong        [5, 5]  I bought this Class 10 SD card for my GoPro 3 ...  5.00000                  Works Great with a GoPro 3 Black! 1970-01-01 00:00:01.370649600 2013-08-06       489            5           5   490           0                   5               1.00000             0.56552\n",
       "121   A2Z4VVF1NTJWPB  B007WTAJTO                                A. Lee        [5, 5]  Update: providing an update with regard to San...  5.00000                     ready for use on the Galaxy S3 1970-01-01 00:00:01.346803200 2012-05-09       943            5           5   944           0                   5               1.00000             0.56552\n",
       "1142  A1PLHPPAJ5MUXG  B007WTAJTO  Daniel Pham(Danpham_X @ yahoo.  com)        [5, 5]  As soon as I saw that this card was announced ...  5.00000                          Great large capacity card 1970-01-01 00:00:01.396396800 2014-02-04       307            5           5   308           0                   5               1.00000             0.56552\n",
       "1753   ALPLKR59QMBUX  B007WTAJTO                             G. Becker        [5, 5]  Puchased this card right after I received my S...  5.00000                    Use Nothing Other Than the Best 1970-01-01 00:00:01.350864000 2012-10-22       777            5           5   778           0                   5               1.00000             0.56552"
      ]
     },
     "execution_count": 26,
     "metadata": {},
     "output_type": "execute_result"
    }
   ],
   "source": [
    "# 20 reviews identified:\n",
    "\n",
    "df.sort_values(by= \"wilson_lower_bound\" , ascending = False).head(20)"
   ]
  }
 ],
 "metadata": {
  "kaggle": {
   "accelerator": "none",
   "dataSources": [
    {
     "datasetId": 5158391,
     "sourceId": 8618166,
     "sourceType": "datasetVersion"
    }
   ],
   "dockerImageVersionId": 30732,
   "isGpuEnabled": false,
   "isInternetEnabled": true,
   "language": "python",
   "sourceType": "notebook"
  },
  "kernelspec": {
   "display_name": "Python 3",
   "language": "python",
   "name": "python3"
  },
  "language_info": {
   "codemirror_mode": {
    "name": "ipython",
    "version": 3
   },
   "file_extension": ".py",
   "mimetype": "text/x-python",
   "name": "python",
   "nbconvert_exporter": "python",
   "pygments_lexer": "ipython3",
   "version": "3.10.13"
  },
  "papermill": {
   "default_parameters": {},
   "duration": 8.054337,
   "end_time": "2024-06-06T03:29:27.023616",
   "environment_variables": {},
   "exception": null,
   "input_path": "__notebook__.ipynb",
   "output_path": "__notebook__.ipynb",
   "parameters": {},
   "start_time": "2024-06-06T03:29:18.969279",
   "version": "2.5.0"
  }
 },
 "nbformat": 4,
 "nbformat_minor": 5
}
